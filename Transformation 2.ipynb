{
 "cells": [
  {
   "cell_type": "markdown",
   "metadata": {},
   "source": [
    "##### Transformation of Features\n",
    "\n",
    "Why Transformation of Features Are Required?\n",
    "\n",
    "1. Linear Regression---Gradient Descent ----Global Minima\n",
    "2. Algorithms like KNN,K Means,Hierarichal Clustering--- Eucledian Distance\n",
    "\n",
    "Every Point has some vectors and Directiom\n",
    "\n",
    "Deep Learning Techniques(Standardization, Scaling)\n",
    "\n",
    "        1.ANN--->GLobal Minima, Gradient\n",
    "        2.CNN\n",
    "        3.RNN\n",
    "\n",
    "0-255 pixels"
   ]
  },
  {
   "cell_type": "markdown",
   "metadata": {},
   "source": [
    "#### Types Of Transformation [ fit(), transform(), fit_transform(), predict(), fit_predict() ]\n",
    "1. Normalization And Standardization\n",
    "2. Min-Max scaler - Scaling to Minimum And Maximum values\n",
    "3. Robust - Scaling To Median And Quantiles\n"
   ]
  },
  {
   "cell_type": "markdown",
   "metadata": {},
   "source": [
    "##### 1. Standardization(Why standardization?)\n",
    "Standardization comes into picture when features of input data set have large differences between their ranges, or simply when they are measured in different measurement units (e.g., Pounds, Meters, Miles … etc).\n",
    "\n",
    "We try to bring all the variables or features to a similar scale. standarisation means centering the variable at zero.\n",
    "z=(x-x_mean)/std"
   ]
  },
  {
   "cell_type": "code",
   "execution_count": 1,
   "metadata": {},
   "outputs": [
    {
     "data": {
      "text/html": [
       "<div>\n",
       "<style scoped>\n",
       "    .dataframe tbody tr th:only-of-type {\n",
       "        vertical-align: middle;\n",
       "    }\n",
       "\n",
       "    .dataframe tbody tr th {\n",
       "        vertical-align: top;\n",
       "    }\n",
       "\n",
       "    .dataframe thead th {\n",
       "        text-align: right;\n",
       "    }\n",
       "</style>\n",
       "<table border=\"1\" class=\"dataframe\">\n",
       "  <thead>\n",
       "    <tr style=\"text-align: right;\">\n",
       "      <th></th>\n",
       "      <th>Survived</th>\n",
       "      <th>Pclass</th>\n",
       "      <th>Age</th>\n",
       "      <th>Fare</th>\n",
       "    </tr>\n",
       "  </thead>\n",
       "  <tbody>\n",
       "    <tr>\n",
       "      <th>0</th>\n",
       "      <td>0</td>\n",
       "      <td>3</td>\n",
       "      <td>22.0</td>\n",
       "      <td>7.2500</td>\n",
       "    </tr>\n",
       "    <tr>\n",
       "      <th>1</th>\n",
       "      <td>1</td>\n",
       "      <td>1</td>\n",
       "      <td>38.0</td>\n",
       "      <td>71.2833</td>\n",
       "    </tr>\n",
       "    <tr>\n",
       "      <th>2</th>\n",
       "      <td>1</td>\n",
       "      <td>3</td>\n",
       "      <td>26.0</td>\n",
       "      <td>7.9250</td>\n",
       "    </tr>\n",
       "    <tr>\n",
       "      <th>3</th>\n",
       "      <td>1</td>\n",
       "      <td>1</td>\n",
       "      <td>35.0</td>\n",
       "      <td>53.1000</td>\n",
       "    </tr>\n",
       "    <tr>\n",
       "      <th>4</th>\n",
       "      <td>0</td>\n",
       "      <td>3</td>\n",
       "      <td>35.0</td>\n",
       "      <td>8.0500</td>\n",
       "    </tr>\n",
       "  </tbody>\n",
       "</table>\n",
       "</div>"
      ],
      "text/plain": [
       "   Survived  Pclass   Age     Fare\n",
       "0         0       3  22.0   7.2500\n",
       "1         1       1  38.0  71.2833\n",
       "2         1       3  26.0   7.9250\n",
       "3         1       1  35.0  53.1000\n",
       "4         0       3  35.0   8.0500"
      ]
     },
     "execution_count": 1,
     "metadata": {},
     "output_type": "execute_result"
    }
   ],
   "source": [
    "import pandas as pd\n",
    "df=pd.read_csv('titanic.csv', usecols=['Pclass','Age','Fare','Survived'])\n",
    "df.head()\n"
   ]
  },
  {
   "cell_type": "code",
   "execution_count": 2,
   "metadata": {},
   "outputs": [],
   "source": [
    "df['Age'].fillna(df.Age.median(),inplace=True)"
   ]
  },
  {
   "cell_type": "code",
   "execution_count": 3,
   "metadata": {},
   "outputs": [
    {
     "data": {
      "text/plain": [
       "Survived    0\n",
       "Pclass      0\n",
       "Age         0\n",
       "Fare        0\n",
       "dtype: int64"
      ]
     },
     "execution_count": 3,
     "metadata": {},
     "output_type": "execute_result"
    }
   ],
   "source": [
    "df.isnull().sum()"
   ]
  },
  {
   "cell_type": "markdown",
   "metadata": {},
   "source": [
    "### Independent and dependent features (Input features & Output feature)"
   ]
  },
  {
   "cell_type": "code",
   "execution_count": 4,
   "metadata": {},
   "outputs": [],
   "source": [
    "X=df.iloc[:,1:]\n",
    "y=df.iloc[:,0]"
   ]
  },
  {
   "cell_type": "code",
   "execution_count": 5,
   "metadata": {},
   "outputs": [
    {
     "data": {
      "text/html": [
       "<div>\n",
       "<style scoped>\n",
       "    .dataframe tbody tr th:only-of-type {\n",
       "        vertical-align: middle;\n",
       "    }\n",
       "\n",
       "    .dataframe tbody tr th {\n",
       "        vertical-align: top;\n",
       "    }\n",
       "\n",
       "    .dataframe thead th {\n",
       "        text-align: right;\n",
       "    }\n",
       "</style>\n",
       "<table border=\"1\" class=\"dataframe\">\n",
       "  <thead>\n",
       "    <tr style=\"text-align: right;\">\n",
       "      <th></th>\n",
       "      <th>Pclass</th>\n",
       "      <th>Age</th>\n",
       "      <th>Fare</th>\n",
       "    </tr>\n",
       "  </thead>\n",
       "  <tbody>\n",
       "    <tr>\n",
       "      <th>0</th>\n",
       "      <td>3</td>\n",
       "      <td>22.0</td>\n",
       "      <td>7.2500</td>\n",
       "    </tr>\n",
       "    <tr>\n",
       "      <th>1</th>\n",
       "      <td>1</td>\n",
       "      <td>38.0</td>\n",
       "      <td>71.2833</td>\n",
       "    </tr>\n",
       "    <tr>\n",
       "      <th>2</th>\n",
       "      <td>3</td>\n",
       "      <td>26.0</td>\n",
       "      <td>7.9250</td>\n",
       "    </tr>\n",
       "    <tr>\n",
       "      <th>3</th>\n",
       "      <td>1</td>\n",
       "      <td>35.0</td>\n",
       "      <td>53.1000</td>\n",
       "    </tr>\n",
       "    <tr>\n",
       "      <th>4</th>\n",
       "      <td>3</td>\n",
       "      <td>35.0</td>\n",
       "      <td>8.0500</td>\n",
       "    </tr>\n",
       "    <tr>\n",
       "      <th>...</th>\n",
       "      <td>...</td>\n",
       "      <td>...</td>\n",
       "      <td>...</td>\n",
       "    </tr>\n",
       "    <tr>\n",
       "      <th>886</th>\n",
       "      <td>2</td>\n",
       "      <td>27.0</td>\n",
       "      <td>13.0000</td>\n",
       "    </tr>\n",
       "    <tr>\n",
       "      <th>887</th>\n",
       "      <td>1</td>\n",
       "      <td>19.0</td>\n",
       "      <td>30.0000</td>\n",
       "    </tr>\n",
       "    <tr>\n",
       "      <th>888</th>\n",
       "      <td>3</td>\n",
       "      <td>28.0</td>\n",
       "      <td>23.4500</td>\n",
       "    </tr>\n",
       "    <tr>\n",
       "      <th>889</th>\n",
       "      <td>1</td>\n",
       "      <td>26.0</td>\n",
       "      <td>30.0000</td>\n",
       "    </tr>\n",
       "    <tr>\n",
       "      <th>890</th>\n",
       "      <td>3</td>\n",
       "      <td>32.0</td>\n",
       "      <td>7.7500</td>\n",
       "    </tr>\n",
       "  </tbody>\n",
       "</table>\n",
       "<p>891 rows × 3 columns</p>\n",
       "</div>"
      ],
      "text/plain": [
       "     Pclass   Age     Fare\n",
       "0         3  22.0   7.2500\n",
       "1         1  38.0  71.2833\n",
       "2         3  26.0   7.9250\n",
       "3         1  35.0  53.1000\n",
       "4         3  35.0   8.0500\n",
       "..      ...   ...      ...\n",
       "886       2  27.0  13.0000\n",
       "887       1  19.0  30.0000\n",
       "888       3  28.0  23.4500\n",
       "889       1  26.0  30.0000\n",
       "890       3  32.0   7.7500\n",
       "\n",
       "[891 rows x 3 columns]"
      ]
     },
     "execution_count": 5,
     "metadata": {},
     "output_type": "execute_result"
    }
   ],
   "source": [
    "print(X)"
   ]
  },
  {
   "cell_type": "code",
   "execution_count": 6,
   "metadata": {},
   "outputs": [],
   "source": [
    "from sklearn.model_selection import train_test_split\n",
    "X_train, X_test, y_train, y_test = train_test_split(X, y, test_size=0.33, random_state=42)"
   ]
  },
  {
   "cell_type": "code",
   "execution_count": 7,
   "metadata": {},
   "outputs": [
    {
     "data": {
      "text/html": [
       "<div>\n",
       "<style scoped>\n",
       "    .dataframe tbody tr th:only-of-type {\n",
       "        vertical-align: middle;\n",
       "    }\n",
       "\n",
       "    .dataframe tbody tr th {\n",
       "        vertical-align: top;\n",
       "    }\n",
       "\n",
       "    .dataframe thead th {\n",
       "        text-align: right;\n",
       "    }\n",
       "</style>\n",
       "<table border=\"1\" class=\"dataframe\">\n",
       "  <thead>\n",
       "    <tr style=\"text-align: right;\">\n",
       "      <th></th>\n",
       "      <th>Pclass</th>\n",
       "      <th>Age</th>\n",
       "      <th>Fare</th>\n",
       "    </tr>\n",
       "  </thead>\n",
       "  <tbody>\n",
       "    <tr>\n",
       "      <th>6</th>\n",
       "      <td>1</td>\n",
       "      <td>54.0</td>\n",
       "      <td>51.8625</td>\n",
       "    </tr>\n",
       "    <tr>\n",
       "      <th>718</th>\n",
       "      <td>3</td>\n",
       "      <td>28.0</td>\n",
       "      <td>15.5000</td>\n",
       "    </tr>\n",
       "    <tr>\n",
       "      <th>685</th>\n",
       "      <td>2</td>\n",
       "      <td>25.0</td>\n",
       "      <td>41.5792</td>\n",
       "    </tr>\n",
       "    <tr>\n",
       "      <th>73</th>\n",
       "      <td>3</td>\n",
       "      <td>26.0</td>\n",
       "      <td>14.4542</td>\n",
       "    </tr>\n",
       "    <tr>\n",
       "      <th>882</th>\n",
       "      <td>3</td>\n",
       "      <td>22.0</td>\n",
       "      <td>10.5167</td>\n",
       "    </tr>\n",
       "    <tr>\n",
       "      <th>...</th>\n",
       "      <td>...</td>\n",
       "      <td>...</td>\n",
       "      <td>...</td>\n",
       "    </tr>\n",
       "    <tr>\n",
       "      <th>106</th>\n",
       "      <td>3</td>\n",
       "      <td>21.0</td>\n",
       "      <td>7.6500</td>\n",
       "    </tr>\n",
       "    <tr>\n",
       "      <th>270</th>\n",
       "      <td>1</td>\n",
       "      <td>28.0</td>\n",
       "      <td>31.0000</td>\n",
       "    </tr>\n",
       "    <tr>\n",
       "      <th>860</th>\n",
       "      <td>3</td>\n",
       "      <td>41.0</td>\n",
       "      <td>14.1083</td>\n",
       "    </tr>\n",
       "    <tr>\n",
       "      <th>435</th>\n",
       "      <td>1</td>\n",
       "      <td>14.0</td>\n",
       "      <td>120.0000</td>\n",
       "    </tr>\n",
       "    <tr>\n",
       "      <th>102</th>\n",
       "      <td>1</td>\n",
       "      <td>21.0</td>\n",
       "      <td>77.2875</td>\n",
       "    </tr>\n",
       "  </tbody>\n",
       "</table>\n",
       "<p>596 rows × 3 columns</p>\n",
       "</div>"
      ],
      "text/plain": [
       "     Pclass   Age      Fare\n",
       "6         1  54.0   51.8625\n",
       "718       3  28.0   15.5000\n",
       "685       2  25.0   41.5792\n",
       "73        3  26.0   14.4542\n",
       "882       3  22.0   10.5167\n",
       "..      ...   ...       ...\n",
       "106       3  21.0    7.6500\n",
       "270       1  28.0   31.0000\n",
       "860       3  41.0   14.1083\n",
       "435       1  14.0  120.0000\n",
       "102       1  21.0   77.2875\n",
       "\n",
       "[596 rows x 3 columns]"
      ]
     },
     "execution_count": 7,
     "metadata": {},
     "output_type": "execute_result"
    }
   ],
   "source": [
    "print(X_train)"
   ]
  },
  {
   "cell_type": "markdown",
   "metadata": {},
   "source": [
    "#### Standarisation: We use the Standardscaler from sklearn library"
   ]
  },
  {
   "cell_type": "code",
   "execution_count": 8,
   "metadata": {},
   "outputs": [],
   "source": [
    "from sklearn.preprocessing import StandardScaler"
   ]
  },
  {
   "cell_type": "markdown",
   "metadata": {},
   "source": [
    "### fit() to calculate & transform() for transformation Vs fit_transform() it will first calculate and then transform the data."
   ]
  },
  {
   "cell_type": "code",
   "execution_count": 9,
   "metadata": {},
   "outputs": [],
   "source": [
    "scaler=StandardScaler()\n",
    "### fit vs fit_transform\n",
    "X_train_scaled=scaler.fit_transform(X_train)"
   ]
  },
  {
   "cell_type": "code",
   "execution_count": 10,
   "metadata": {},
   "outputs": [
    {
     "data": {
      "text/plain": [
       "array([[-1.62580285,  1.91349292,  0.38784185],\n",
       "       [ 0.80576177, -0.09452019, -0.31908053],\n",
       "       [-0.41002054, -0.32621401,  0.18792449],\n",
       "       ...,\n",
       "       [ 0.80576177,  0.90948636, -0.34613654],\n",
       "       [-1.62580285, -1.17575802,  1.71250117],\n",
       "       [-1.62580285, -0.63513911,  0.8821286 ]])"
      ]
     },
     "execution_count": 10,
     "metadata": {},
     "output_type": "execute_result"
    }
   ],
   "source": [
    "print(X_train_scaled)"
   ]
  },
  {
   "cell_type": "code",
   "execution_count": 11,
   "metadata": {},
   "outputs": [],
   "source": [
    "X_test_scaled=scaler.transform(X_test)"
   ]
  },
  {
   "cell_type": "code",
   "execution_count": 12,
   "metadata": {},
   "outputs": [
    {
     "data": {
      "text/plain": [
       "array([[ 0.80576177, -0.09452019, -0.32402243],\n",
       "       [-0.41002054,  0.13717363, -0.4162854 ],\n",
       "       [ 0.80576177, -0.71237038, -0.46634591],\n",
       "       [-0.41002054, -1.79360821,  0.0211365 ],\n",
       "       [ 0.80576177, -1.17575802, -0.40186603],\n",
       "       [-1.62580285, -0.24898274,  0.91250512],\n",
       "       [ 0.80576177, -0.09452019, -0.46974808],\n",
       "       [ 0.80576177, -1.02129548, -0.2704781 ],\n",
       "       [ 0.80576177, -1.02129548, -0.46974808],\n",
       "       [-1.62580285, -0.78960166, -0.10944269],\n",
       "       [-1.62580285,  0.60056127,  0.41190006],\n",
       "       [ 0.80576177,  1.14118018, -0.46391578],\n",
       "       [ 0.80576177, -0.09452019, -0.12531819],\n",
       "       [ 0.80576177,  0.05994235, -0.47995459],\n",
       "       [-0.41002054,  0.52332999, -0.36768297],\n",
       "       [-1.62580285, -1.02129548,  0.14555873],\n",
       "       [-1.62580285,  0.98671764,  0.40128918],\n",
       "       [ 0.80576177, -0.09452019, -0.46820835],\n",
       "       [-0.41002054, -0.17175147, -0.36768297],\n",
       "       [-1.62580285,  1.372874  ,  0.39051499],\n",
       "       [ 0.80576177, -0.40344529, -0.46691358],\n",
       "       [-1.62580285,  0.36886745, -0.10425778],\n",
       "       [ 0.80576177, -0.78960166, -0.46772233],\n",
       "       [ 0.80576177, -0.71237038, -0.44107264],\n",
       "       [ 0.80576177, -0.09452019, -0.33852151],\n",
       "       [ 0.80576177, -1.48468312, -0.07801247],\n",
       "       [-1.62580285,  0.83225509, -0.08149629],\n",
       "       [-0.41002054,  0.13717363, -0.36768297],\n",
       "       [ 0.80576177, -1.94807076, -0.07801247],\n",
       "       [ 0.80576177,  0.13717363, -0.46772233],\n",
       "       [ 0.80576177, -0.78960166, -0.46691358],\n",
       "       [ 0.80576177, -0.55790784, -0.46974808],\n",
       "       [-1.62580285, -0.09452019, -0.02365939],\n",
       "       [ 0.80576177, -0.09452019, -0.47363627],\n",
       "       [ 0.80576177, -0.86683293, -0.46391578],\n",
       "       [ 0.80576177, -0.17175147, -0.3394119 ],\n",
       "       [-1.62580285, -0.09452019,  0.06973893],\n",
       "       [ 0.80576177, -0.09452019, -0.46974808],\n",
       "       [-1.62580285,  0.05994235, -0.01774545],\n",
       "       [ 0.80576177, -0.09452019, -0.46691358],\n",
       "       [-0.41002054, -0.63513911,  0.80849591],\n",
       "       [ 0.80576177, -0.01728892, -0.48343841],\n",
       "       [ 0.80576177, -0.09452019, -0.46391578],\n",
       "       [ 0.80576177, -0.09452019, -0.46974808],\n",
       "       [ 0.80576177,  1.21841146, -0.3394119 ],\n",
       "       [ 0.80576177, -1.02129548,  0.04786783],\n",
       "       [ 0.80576177, -0.78960166, -0.46181033],\n",
       "       [ 0.80576177, -0.48067656, -0.44107264],\n",
       "       [ 0.80576177, -0.40344529, -0.48335676],\n",
       "       [-1.62580285,  2.22241801,  1.58176062],\n",
       "       [ 0.80576177, -1.87083949, -0.24601552],\n",
       "       [-1.62580285,  1.75903037,  1.19731538],\n",
       "       [ 0.80576177,  0.83225509, -0.07801247],\n",
       "       [-1.62580285, -1.40745185,  1.71250117],\n",
       "       [ 0.80576177,  2.76303693, -0.46974808],\n",
       "       [-1.62580285, -0.86683293,  0.9280579 ],\n",
       "       [-0.41002054,  0.2144049 , -0.4162854 ],\n",
       "       [-1.62580285,  1.60456783,  4.19162962],\n",
       "       [-0.41002054,  0.44609872, -0.21215518],\n",
       "       [ 0.80576177, -0.78960166, -0.4672363 ],\n",
       "       [ 0.80576177, -0.63513911, -0.46926205],\n",
       "       [-0.41002054, -1.2529893 , -0.24131664],\n",
       "       [-0.41002054, -0.09452019, -0.11495032],\n",
       "       [-1.62580285, -0.09452019, -0.11640839],\n",
       "       [ 0.80576177, -0.09452019, -0.46974808],\n",
       "       [-0.41002054,  2.14518674, -0.4162854 ],\n",
       "       [-0.41002054, -0.63513911,  0.80849591],\n",
       "       [ 0.80576177, -0.01728892, -0.46731796],\n",
       "       [ 0.80576177, -0.9440642 , -0.47987294],\n",
       "       [-1.62580285,  1.75903037,  0.9011652 ],\n",
       "       [-0.41002054, -0.24898274, -0.11495032],\n",
       "       [-1.62580285, -0.86683293,  4.48040973],\n",
       "       [-1.62580285, -0.24898274, -0.03718642],\n",
       "       [-1.62580285,  0.75502382,  0.99626266],\n",
       "       [ 0.80576177, -0.48067656, -0.46772233],\n",
       "       [ 0.80576177,  0.52332999, -0.31810849],\n",
       "       [ 0.80576177,  0.09855799, -0.46974808],\n",
       "       [-1.62580285, -0.55790784,  0.34191255],\n",
       "       [-0.41002054,  0.67779254, -0.36768297],\n",
       "       [ 0.80576177,  0.90948636, -0.22746495],\n",
       "       [ 0.80576177, -1.02129548,  0.15114801],\n",
       "       [-0.41002054, -0.01728892, -0.4162854 ],\n",
       "       [-1.62580285,  0.83225509,  1.99439528],\n",
       "       [ 0.80576177, -0.09452019, -0.46999109],\n",
       "       [-1.62580285,  2.06795547, -0.02365939],\n",
       "       [-1.62580285,  3.22642457,  0.34199421],\n",
       "       [-1.62580285,  0.13717363,  1.58176062],\n",
       "       [-1.62580285,  0.05994235,  0.48634343],\n",
       "       [-1.62580285,  0.67779254, -0.62041562],\n",
       "       [ 0.80576177, -0.09452019, -0.47946856],\n",
       "       [ 0.80576177, -1.56191439, -0.22138964],\n",
       "       [ 0.80576177, -1.56191439, -0.01239918],\n",
       "       [-1.62580285,  2.45411184,  0.00793219],\n",
       "       [ 0.80576177, -0.09452019, -0.47015245],\n",
       "       [ 0.80576177, -0.09452019, -0.46691358],\n",
       "       [ 0.80576177, -0.09452019, -0.46772233],\n",
       "       [-1.62580285,  1.45010528,  0.39051499],\n",
       "       [ 0.80576177,  1.21841146, -0.46391578],\n",
       "       [-0.41002054,  0.52332999, -0.36768297],\n",
       "       [ 0.80576177, -0.17175147, -0.46691358],\n",
       "       [-1.62580285,  2.68580566, -0.11495032],\n",
       "       [ 0.80576177,  0.44609872, -0.48189869],\n",
       "       [-1.62580285, -0.78960166,  1.15025267],\n",
       "       [ 0.80576177,  0.67779254, -0.48335676],\n",
       "       [ 0.80576177,  0.09855799, -0.46391578],\n",
       "       [ 0.80576177, -0.32621401, -0.46926205],\n",
       "       [-0.41002054,  0.83225509,  0.13778234],\n",
       "       [-1.62580285,  1.372874  ,  0.12806185],\n",
       "       [ 0.80576177,  0.05994235, -0.43572637],\n",
       "       [-1.62580285,  0.83225509, -0.01774545],\n",
       "       [-1.62580285, -0.09452019,  0.39051499],\n",
       "       [ 0.80576177, -0.67375475, -0.47946856],\n",
       "       [-1.62580285, -0.09452019,  1.11185675],\n",
       "       [-1.62580285,  0.52332999, -0.10936104],\n",
       "       [-1.62580285, -0.09452019,  3.69118787],\n",
       "       [ 0.80576177, -0.71237038, -0.42900369],\n",
       "       [-1.62580285,  3.22642457,  0.05329575],\n",
       "       [-0.41002054,  0.52332999, -0.37011309],\n",
       "       [-0.41002054, -0.55790784, -0.0566274 ],\n",
       "       [ 0.80576177,  1.45010528,  0.04786783],\n",
       "       [-0.41002054, -0.48067656, -0.39684443],\n",
       "       [-1.62580285,  0.2144049 ,  0.86276928],\n",
       "       [-1.62580285,  2.60857438,  0.8951696 ],\n",
       "       [-0.41002054, -2.1928939 , -0.0566274 ],\n",
       "       [ 0.80576177, -0.32621401, -0.47946856],\n",
       "       [-1.62580285,  0.44609872, -0.10425778],\n",
       "       [-1.62580285,  1.52733655, -0.11632674],\n",
       "       [-1.62580285, -0.40344529,  0.91930946],\n",
       "       [ 0.80576177, -0.09452019, -0.3393322 ],\n",
       "       [ 0.80576177, -0.63513911, -0.46391578],\n",
       "       [ 0.80576177, -0.09452019, -0.4672363 ],\n",
       "       [ 0.80576177, -0.09452019, -0.32402243],\n",
       "       [-0.41002054, -0.09452019, -0.62041562],\n",
       "       [ 0.80576177, -1.87083949, -0.37788948],\n",
       "       [-1.62580285,  1.52733655,  0.48634343],\n",
       "       [ 0.80576177, -1.09852675, -0.3394119 ],\n",
       "       [-1.62580285, -0.09452019,  1.53526365],\n",
       "       [ 0.80576177, -0.01728892, -0.46926205],\n",
       "       [ 0.80576177,  0.98671764, -0.47363627],\n",
       "       [ 0.80576177, -0.86683293, -0.2743663 ],\n",
       "       [ 0.80576177, -0.63513911, -0.45646406],\n",
       "       [-0.41002054,  1.14118018, -0.11495032],\n",
       "       [-0.41002054, -0.09452019, -0.36768297],\n",
       "       [-0.41002054,  0.60056127, -0.11495032],\n",
       "       [ 0.80576177,  0.75502382, -0.05419727],\n",
       "       [-0.41002054,  0.36886745,  0.01141601],\n",
       "       [-0.41002054,  0.05994235, -0.36768297],\n",
       "       [-0.41002054,  2.8402682 , -0.4162854 ],\n",
       "       [-1.62580285, -0.09452019,  2.22809133],\n",
       "       [ 0.80576177,  1.06394891, -0.46391578],\n",
       "       [ 0.80576177, -0.09452019, -0.45103614],\n",
       "       [ 0.80576177, -0.40344529, -0.47468997],\n",
       "       [ 0.80576177, -0.86683293, -0.46885768],\n",
       "       [ 0.80576177, -0.09452019, -0.15091612],\n",
       "       [ 0.80576177, -0.09452019, -0.46391578],\n",
       "       [ 0.80576177, -0.09452019, -0.48335676],\n",
       "       [ 0.80576177, -0.09452019,  0.47791772],\n",
       "       [ 0.80576177, -0.09452019, -0.46901904],\n",
       "       [-0.41002054,  0.52332999, -0.11495032],\n",
       "       [ 0.80576177,  0.2144049 , -0.31908053],\n",
       "       [ 0.80576177, -0.44206093, -0.47987294],\n",
       "       [-1.62580285, -0.09452019, -0.10425778],\n",
       "       [-0.41002054,  0.75502382, -0.36768297],\n",
       "       [-1.62580285, -0.09452019,  0.9770647 ],\n",
       "       [ 0.80576177, -0.09452019, -0.45597804],\n",
       "       [-1.62580285,  2.76303693,  0.58452035],\n",
       "       [-0.41002054, -0.48067656, -0.4162854 ],\n",
       "       [-1.62580285, -0.09452019,  0.38784185],\n",
       "       [ 0.80576177, -0.55790784, -0.46691358],\n",
       "       [ 0.80576177,  0.44609872, -0.48335676],\n",
       "       [-1.62580285, -0.48067656,  0.61133139],\n",
       "       [-0.41002054, -0.86683293, -0.36768297],\n",
       "       [-1.62580285,  0.52332999, -0.10741694],\n",
       "       [ 0.80576177, -1.56191439, -0.32402243],\n",
       "       [ 0.80576177, -0.9440642 , -0.48189869],\n",
       "       [ 0.80576177, -0.09452019, -0.47995459],\n",
       "       [ 0.80576177,  0.67779254, -0.01021207],\n",
       "       [-0.41002054, -0.9440642 , -0.4162854 ],\n",
       "       [ 0.80576177, -1.94807076, -0.29575137],\n",
       "       [-1.62580285,  1.25702709, -0.06634788],\n",
       "       [-0.41002054, -0.48067656, -0.36768297],\n",
       "       [ 0.80576177,  0.2144049 , -0.46634591],\n",
       "       [ 0.80576177, -0.24898274, -0.46772233],\n",
       "       [ 0.80576177, -1.79360821, -0.01239918],\n",
       "       [-1.62580285, -0.40344529,  4.19162962],\n",
       "       [-1.62580285,  1.21841146, -0.10425778],\n",
       "       [-0.41002054, -0.01728892, -0.08149629],\n",
       "       [ 0.80576177, -0.09452019, -0.46691358],\n",
       "       [-1.62580285, -0.09452019,  0.06973893],\n",
       "       [-0.41002054,  0.98671764, -0.36768297],\n",
       "       [ 0.80576177,  0.52332999, -0.15091612],\n",
       "       [-0.41002054,  0.29163617, -0.38177767],\n",
       "       [ 0.80576177, -0.9440642 , -0.48327511],\n",
       "       [ 0.80576177, -0.01728892, -0.43572637],\n",
       "       [-0.41002054,  1.60456783, -0.11495032],\n",
       "       [-1.62580285,  0.44609872,  1.12927197],\n",
       "       [-1.62580285,  0.67779254,  3.80289181],\n",
       "       [-0.41002054,  0.36886745, -0.36768297],\n",
       "       [-1.62580285, -0.9440642 ,  0.48771985],\n",
       "       [ 0.80576177, -1.40745185, -0.01239918],\n",
       "       [ 0.80576177,  2.45411184, -0.49915255],\n",
       "       [ 0.80576177,  0.05994235, -0.45200819],\n",
       "       [-0.41002054, -1.71637694, -0.11009007],\n",
       "       [ 0.80576177,  2.60857438, -0.43402529],\n",
       "       [ 0.80576177, -0.71237038, -0.47987294],\n",
       "       [ 0.80576177, -0.09452019, -0.18574851],\n",
       "       [ 0.80576177, -0.01728892, -0.43605104],\n",
       "       [-1.62580285,  0.52332999,  1.71250117],\n",
       "       [ 0.80576177, -0.09452019, -0.3393322 ],\n",
       "       [ 0.80576177,  1.60456783, -0.46391578],\n",
       "       [-1.62580285, -0.17175147,  3.49135022],\n",
       "       [ 0.80576177,  0.05994235, -0.47946856],\n",
       "       [-1.62580285,  0.29163617,  1.12927197],\n",
       "       [ 0.80576177, -0.09452019, -0.4702341 ],\n",
       "       [ 0.80576177, -0.09452019, -0.12531819],\n",
       "       [ 0.80576177, -2.10253331, -0.21069711],\n",
       "       [-0.41002054, -0.32621401, -0.03718642],\n",
       "       [-1.62580285,  1.6817991 ,  0.57285576],\n",
       "       [-0.41002054, -0.32621401, -0.11495032],\n",
       "       [ 0.80576177, -0.09452019, -0.47946856],\n",
       "       [ 0.80576177, -0.09452019, -0.46691358],\n",
       "       [-0.41002054, -0.40344529, -0.36768297],\n",
       "       [ 0.80576177, -0.86683293, -0.22746495],\n",
       "       [-1.62580285, -0.09452019, -0.02746594],\n",
       "       [ 0.80576177, -0.32621401, -0.48335676],\n",
       "       [-0.41002054, -0.40344529, -0.33852151],\n",
       "       [ 0.80576177, -0.55790784, -0.47420395],\n",
       "       [-1.62580285, -2.18594308,  2.32586387],\n",
       "       [-0.41002054, -0.40344529, -0.11495032],\n",
       "       [ 0.80576177, -0.24898274, -0.46634591],\n",
       "       [-0.41002054,  0.36886745, -0.21215518],\n",
       "       [-1.62580285, -0.63513911,  4.48040973],\n",
       "       [ 0.80576177, -0.09452019, -0.46974808],\n",
       "       [ 0.80576177, -0.09452019, -0.47987294],\n",
       "       [ 0.80576177, -0.09452019, -0.45200819],\n",
       "       [ 0.80576177, -0.55790784, -0.46926205],\n",
       "       [-1.62580285,  2.53134311,  0.93486224],\n",
       "       [ 0.80576177, -0.86683293, -0.42908339],\n",
       "       [-1.62580285,  0.98671764,  3.80289181],\n",
       "       [-0.41002054,  2.14518674, -0.3803196 ],\n",
       "       [ 0.80576177, -0.78960166, -0.62041562],\n",
       "       [-0.41002054,  0.98671764, -0.11495032],\n",
       "       [ 0.80576177, -0.09452019, -0.47995459],\n",
       "       [ 0.80576177, -0.71237038, -0.45200819],\n",
       "       [ 0.80576177,  0.40748308, -0.49526435],\n",
       "       [ 0.80576177, -0.09452019, -0.43572637],\n",
       "       [ 0.80576177, -0.09452019, -0.46391578],\n",
       "       [ 0.80576177, -0.48067656, -0.46691358],\n",
       "       [ 0.80576177, -0.55790784, -0.47946856],\n",
       "       [-1.62580285,  1.75903037, -0.02746594],\n",
       "       [ 0.80576177,  0.05994235, -0.37788948],\n",
       "       [-0.41002054,  0.56194563, -0.11495032],\n",
       "       [ 0.80576177, -0.09452019, -0.46974808],\n",
       "       [ 0.80576177, -0.55790784, -0.47987294],\n",
       "       [-1.62580285,  1.60456783,  1.97787045],\n",
       "       [ 0.80576177, -0.17175147, -0.48481483],\n",
       "       [ 0.80576177, -0.55790784, -0.46391578],\n",
       "       [-1.62580285,  1.6817991 ,  0.8951696 ],\n",
       "       [-0.41002054,  0.52332999, -0.4162854 ],\n",
       "       [-0.41002054, -0.01728892, -0.11495032],\n",
       "       [-1.62580285, -0.55790784,  2.32586387],\n",
       "       [-1.62580285,  1.60456783,  1.44858996],\n",
       "       [-0.41002054,  0.83225509, -0.36768297],\n",
       "       [ 0.80576177, -0.17175147, -0.45200819],\n",
       "       [-1.62580285, -0.09452019, -0.62041562],\n",
       "       [-1.62580285,  2.76303693, -0.10425778],\n",
       "       [ 0.80576177, -0.9440642 , -0.45200819],\n",
       "       [-1.62580285, -0.09452019, -0.10425778],\n",
       "       [-1.62580285, -1.94807076,  0.9709894 ],\n",
       "       [ 0.80576177, -0.09452019, -0.46691358],\n",
       "       [ 0.80576177, -2.17976458, -0.40397343],\n",
       "       [-0.41002054,  0.52332999, -0.08092861],\n",
       "       [-0.41002054,  1.06394891, -0.11009007],\n",
       "       [-1.62580285,  0.67779254,  2.36304473],\n",
       "       [-0.41002054,  0.13717363, -0.11009007],\n",
       "       [ 0.80576177, -0.01728892, -0.46391578],\n",
       "       [ 0.80576177, -0.86683293, -0.45905554],\n",
       "       [-0.41002054, -0.09452019, -0.32782897],\n",
       "       [-1.62580285,  0.75502382,  1.53526365],\n",
       "       [-0.41002054,  0.75502382, -0.36768297],\n",
       "       [ 0.80576177, -0.24898274, -0.45200819],\n",
       "       [ 0.80576177, -0.71237038, -0.48335676],\n",
       "       [-1.62580285, -0.09452019,  1.97787045],\n",
       "       [ 0.80576177,  1.52733655, -0.62041562],\n",
       "       [-0.41002054, -0.48067656, -0.32791062],\n",
       "       [ 0.80576177, -2.17976458,  0.15114801],\n",
       "       [ 0.80576177, -0.09452019, -0.4672363 ],\n",
       "       [ 0.80576177, -0.09452019, -0.1645248 ],\n",
       "       [-0.41002054, -2.02530203, -0.11495032],\n",
       "       [ 0.80576177, -1.94807076, -0.40397343],\n",
       "       [ 0.80576177, -0.78960166, -0.47169217],\n",
       "       [ 0.80576177,  0.87087073, -0.46974808],\n",
       "       [ 0.80576177, -2.17976458, -0.31438165],\n",
       "       [ 0.80576177, -0.09452019, -0.32402243],\n",
       "       [ 0.80576177, -0.63513911, -0.46634591]])"
      ]
     },
     "execution_count": 12,
     "metadata": {},
     "output_type": "execute_result"
    }
   ],
   "source": [
    "print(X_test_scaled)"
   ]
  },
  {
   "cell_type": "markdown",
   "metadata": {},
   "source": [
    "### Model Building - fit() for training and predict() for test"
   ]
  },
  {
   "cell_type": "code",
   "execution_count": 13,
   "metadata": {},
   "outputs": [],
   "source": [
    "from sklearn.linear_model import LogisticRegression\n",
    "classification=LogisticRegression()"
   ]
  },
  {
   "cell_type": "code",
   "execution_count": 14,
   "metadata": {},
   "outputs": [
    {
     "data": {
      "text/plain": [
       "LogisticRegression()"
      ]
     },
     "execution_count": 14,
     "metadata": {},
     "output_type": "execute_result"
    }
   ],
   "source": [
    "classification.fit(X_train_scaled,y_train)"
   ]
  },
  {
   "cell_type": "code",
   "execution_count": 15,
   "metadata": {},
   "outputs": [
    {
     "data": {
      "text/plain": [
       "array([0, 0, 0, 1, 0, 1, 0, 0, 0, 1, 1, 0, 0, 0, 0, 1, 1, 0, 0, 1, 0, 1,\n",
       "       0, 0, 0, 0, 1, 0, 0, 0, 0, 0, 1, 0, 0, 0, 1, 0, 1, 0, 1, 0, 0, 0,\n",
       "       0, 0, 0, 0, 0, 1, 0, 1, 0, 1, 0, 1, 0, 1, 0, 0, 0, 1, 0, 1, 0, 0,\n",
       "       1, 0, 0, 1, 0, 1, 1, 1, 0, 0, 0, 1, 0, 0, 0, 0, 1, 0, 0, 0, 1, 1,\n",
       "       1, 0, 0, 0, 0, 0, 0, 0, 1, 0, 0, 0, 0, 0, 1, 0, 0, 0, 0, 1, 0, 1,\n",
       "       1, 0, 1, 1, 1, 0, 0, 0, 0, 0, 0, 1, 0, 1, 0, 1, 0, 1, 0, 0, 0, 0,\n",
       "       0, 0, 1, 0, 1, 0, 0, 0, 0, 0, 0, 0, 0, 0, 0, 0, 1, 0, 0, 0, 0, 0,\n",
       "       0, 0, 0, 0, 0, 0, 0, 1, 0, 1, 0, 0, 0, 1, 0, 0, 1, 0, 1, 0, 0, 0,\n",
       "       0, 0, 0, 1, 0, 0, 0, 0, 1, 1, 0, 0, 1, 0, 0, 0, 0, 0, 0, 1, 1, 0,\n",
       "       1, 0, 0, 0, 1, 0, 0, 0, 0, 1, 0, 0, 1, 0, 1, 0, 0, 0, 0, 1, 0, 0,\n",
       "       0, 0, 0, 1, 0, 0, 0, 1, 0, 0, 0, 1, 0, 0, 0, 0, 0, 0, 1, 0, 0, 0,\n",
       "       0, 0, 0, 0, 0, 0, 0, 0, 0, 0, 0, 0, 1, 0, 0, 1, 0, 0, 1, 1, 0, 0,\n",
       "       1, 0, 0, 1, 1, 0, 0, 0, 0, 1, 0, 0, 0, 0, 1, 0, 0, 0, 1, 0, 0, 0,\n",
       "       0, 0, 1, 0, 0, 0, 0, 0, 0], dtype=int64)"
      ]
     },
     "execution_count": 15,
     "metadata": {},
     "output_type": "execute_result"
    }
   ],
   "source": [
    "classification.predict(X_test_scaled)"
   ]
  },
  {
   "cell_type": "code",
   "execution_count": 21,
   "metadata": {},
   "outputs": [],
   "source": [
    "df_scaled=df_scaled.transform(df)"
   ]
  },
  {
   "cell_type": "code",
   "execution_count": 23,
   "metadata": {},
   "outputs": [
    {
     "data": {
      "text/plain": [
       "array([[-0.78927234,  0.82737724, -0.56573646, -0.50244517],\n",
       "       [ 1.2669898 , -1.56610693,  0.66386103,  0.78684529],\n",
       "       [ 1.2669898 ,  0.82737724, -0.25833709, -0.48885426],\n",
       "       ...,\n",
       "       [-0.78927234,  0.82737724, -0.1046374 , -0.17626324],\n",
       "       [ 1.2669898 , -1.56610693, -0.25833709, -0.04438104],\n",
       "       [-0.78927234,  0.82737724,  0.20276197, -0.49237783]])"
      ]
     },
     "execution_count": 23,
     "metadata": {},
     "output_type": "execute_result"
    }
   ],
   "source": [
    "print(df_scaled)"
   ]
  },
  {
   "cell_type": "code",
   "execution_count": 10,
   "metadata": {},
   "outputs": [],
   "source": [
    "import matplotlib.pyplot as plt\n",
    "%matplotlib inline"
   ]
  },
  {
   "cell_type": "code",
   "execution_count": 16,
   "metadata": {},
   "outputs": [
    {
     "data": {
      "text/plain": [
       "array([[-0.78927234,  0.82737724, -0.56573646, -0.50244517],\n",
       "       [ 1.2669898 , -1.56610693,  0.66386103,  0.78684529],\n",
       "       [ 1.2669898 ,  0.82737724, -0.25833709, -0.48885426],\n",
       "       ...,\n",
       "       [-0.78927234,  0.82737724, -0.1046374 , -0.17626324],\n",
       "       [ 1.2669898 , -1.56610693, -0.25833709, -0.04438104],\n",
       "       [-0.78927234,  0.82737724,  0.20276197, -0.49237783]])"
      ]
     },
     "execution_count": 16,
     "metadata": {},
     "output_type": "execute_result"
    }
   ],
   "source": [
    "print(df_scaled)"
   ]
  },
  {
   "cell_type": "code",
   "execution_count": 11,
   "metadata": {},
   "outputs": [
    {
     "data": {
      "text/plain": [
       "(array([216.,   0.,   0.,   0.,   0.,   0.,   0.,   0.,   0.,   0., 184.,\n",
       "          0.,   0.,   0.,   0.,   0.,   0.,   0.,   0., 491.]),\n",
       " array([-1.56610693, -1.44643272, -1.32675851, -1.2070843 , -1.08741009,\n",
       "        -0.96773588, -0.84806167, -0.72838747, -0.60871326, -0.48903905,\n",
       "        -0.36936484, -0.24969063, -0.13001642, -0.01034222,  0.10933199,\n",
       "         0.2290062 ,  0.34868041,  0.46835462,  0.58802883,  0.70770304,\n",
       "         0.82737724]),\n",
       " <a list of 20 Patch objects>)"
      ]
     },
     "execution_count": 11,
     "metadata": {},
     "output_type": "execute_result"
    },
    {
     "data": {
      "image/png": "[encoded data removed]",
      "text/plain": [
       "<Figure size 432x288 with 1 Axes>"
      ]
     },
     "metadata": {
      "needs_background": "light"
     },
     "output_type": "display_data"
    }
   ],
   "source": [
    "plt.hist(df_scaled[:,1],bins=20)"
   ]
  },
  {
   "cell_type": "code",
   "execution_count": 13,
   "metadata": {},
   "outputs": [
    {
     "data": {
      "text/plain": [
       "(array([ 40.,  14.,  15.,  31.,  79.,  98., 262.,  84.,  73.,  45.,  35.,\n",
       "         35.,  29.,  16.,  13.,  11.,   4.,   5.,   1.,   1.]),\n",
       " array([-2.22415608, -1.91837055, -1.61258503, -1.3067995 , -1.00101397,\n",
       "        -0.69522845, -0.38944292, -0.08365739,  0.22212813,  0.52791366,\n",
       "         0.83369919,  1.13948471,  1.44527024,  1.75105577,  2.05684129,\n",
       "         2.36262682,  2.66841235,  2.97419787,  3.2799834 ,  3.58576892,\n",
       "         3.89155445]),\n",
       " <a list of 20 Patch objects>)"
      ]
     },
     "execution_count": 13,
     "metadata": {},
     "output_type": "execute_result"
    },
    {
     "data": {
      "image/png": "[encoded data removed]",
      "text/plain": [
       "<Figure size 432x288 with 1 Axes>"
      ]
     },
     "metadata": {
      "needs_background": "light"
     },
     "output_type": "display_data"
    }
   ],
   "source": [
    "plt.hist(df_scaled[:,2],bins=20)"
   ]
  },
  {
   "cell_type": "code",
   "execution_count": 14,
   "metadata": {},
   "outputs": [
    {
     "data": {
      "text/plain": [
       "(array([562., 170.,  67.,  39.,  15.,  16.,   2.,   0.,   9.,   2.,   6.,\n",
       "          0.,   0.,   0.,   0.,   0.,   0.,   0.,   0.,   3.]),\n",
       " array([-0.64842165, -0.13264224,  0.38313716,  0.89891657,  1.41469598,\n",
       "         1.93047539,  2.4462548 ,  2.96203421,  3.47781362,  3.99359303,\n",
       "         4.50937244,  5.02515184,  5.54093125,  6.05671066,  6.57249007,\n",
       "         7.08826948,  7.60404889,  8.1198283 ,  8.63560771,  9.15138712,\n",
       "         9.66716653]),\n",
       " <a list of 20 Patch objects>)"
      ]
     },
     "execution_count": 14,
     "metadata": {},
     "output_type": "execute_result"
    },
    {
     "data": {
      "image/png": "[encoded data removed]",
      "text/plain": [
       "<Figure size 432x288 with 1 Axes>"
      ]
     },
     "metadata": {
      "needs_background": "light"
     },
     "output_type": "display_data"
    }
   ],
   "source": [
    "plt.hist(df_scaled[:,3],bins=20)"
   ]
  },
  {
   "cell_type": "code",
   "execution_count": 15,
   "metadata": {},
   "outputs": [
    {
     "data": {
      "text/plain": [
       "(array([562., 170.,  67.,  39.,  15.,  16.,   2.,   0.,   9.,   2.,   6.,\n",
       "          0.,   0.,   0.,   0.,   0.,   0.,   0.,   0.,   3.]),\n",
       " array([  0.     ,  25.61646,  51.23292,  76.84938, 102.46584, 128.0823 ,\n",
       "        153.69876, 179.31522, 204.93168, 230.54814, 256.1646 , 281.78106,\n",
       "        307.39752, 333.01398, 358.63044, 384.2469 , 409.86336, 435.47982,\n",
       "        461.09628, 486.71274, 512.3292 ]),\n",
       " <a list of 20 Patch objects>)"
      ]
     },
     "execution_count": 15,
     "metadata": {},
     "output_type": "execute_result"
    },
    {
     "data": {
      "image/png": "[encoded data removed]",
      "text/plain": [
       "<Figure size 432x288 with 1 Axes>"
      ]
     },
     "metadata": {
      "needs_background": "light"
     },
     "output_type": "display_data"
    }
   ],
   "source": [
    "plt.hist(df['Fare'],bins=20)"
   ]
  },
  {
   "cell_type": "markdown",
   "metadata": {},
   "source": [
    "##### 2. Min Max Scaling  (### CNN)---Deep Learning Techniques\n",
    "Min Max Scaling scales the values between 0 to 1.\n",
    "X_scaled = (X - X.min / (X.max - X.min)"
   ]
  },
  {
   "cell_type": "code",
   "execution_count": 16,
   "metadata": {},
   "outputs": [],
   "source": [
    "from sklearn.model_selection import train_test_split\n",
    "X_train, X_test, y_train, y_test = train_test_split(X, y, test_size=0.33, random_state=42)"
   ]
  },
  {
   "cell_type": "code",
   "execution_count": 18,
   "metadata": {},
   "outputs": [
    {
     "data": {
      "text/html": [
       "<div>\n",
       "<style scoped>\n",
       "    .dataframe tbody tr th:only-of-type {\n",
       "        vertical-align: middle;\n",
       "    }\n",
       "\n",
       "    .dataframe tbody tr th {\n",
       "        vertical-align: top;\n",
       "    }\n",
       "\n",
       "    .dataframe thead th {\n",
       "        text-align: right;\n",
       "    }\n",
       "</style>\n",
       "<table border=\"1\" class=\"dataframe\">\n",
       "  <thead>\n",
       "    <tr style=\"text-align: right;\">\n",
       "      <th></th>\n",
       "      <th>0</th>\n",
       "      <th>1</th>\n",
       "      <th>2</th>\n",
       "    </tr>\n",
       "  </thead>\n",
       "  <tbody>\n",
       "    <tr>\n",
       "      <th>0</th>\n",
       "      <td>0.0</td>\n",
       "      <td>0.673285</td>\n",
       "      <td>0.101229</td>\n",
       "    </tr>\n",
       "    <tr>\n",
       "      <th>1</th>\n",
       "      <td>1.0</td>\n",
       "      <td>0.346569</td>\n",
       "      <td>0.030254</td>\n",
       "    </tr>\n",
       "    <tr>\n",
       "      <th>2</th>\n",
       "      <td>0.5</td>\n",
       "      <td>0.308872</td>\n",
       "      <td>0.081157</td>\n",
       "    </tr>\n",
       "    <tr>\n",
       "      <th>3</th>\n",
       "      <td>1.0</td>\n",
       "      <td>0.321438</td>\n",
       "      <td>0.028213</td>\n",
       "    </tr>\n",
       "    <tr>\n",
       "      <th>4</th>\n",
       "      <td>1.0</td>\n",
       "      <td>0.271174</td>\n",
       "      <td>0.020527</td>\n",
       "    </tr>\n",
       "  </tbody>\n",
       "</table>\n",
       "</div>"
      ],
      "text/plain": [
       "     0         1         2\n",
       "0  0.0  0.673285  0.101229\n",
       "1  1.0  0.346569  0.030254\n",
       "2  0.5  0.308872  0.081157\n",
       "3  1.0  0.321438  0.028213\n",
       "4  1.0  0.271174  0.020527"
      ]
     },
     "execution_count": 18,
     "metadata": {},
     "output_type": "execute_result"
    }
   ],
   "source": [
    "from sklearn.preprocessing import MinMaxScaler\n",
    "min_max=MinMaxScaler()\n",
    "df_minmax=pd.DataFrame(min_max.fit_transform(X_train))\n",
    "df_minmax.head()"
   ]
  },
  {
   "cell_type": "code",
   "execution_count": 28,
   "metadata": {},
   "outputs": [
    {
     "data": {
      "text/plain": [
       "<seaborn.axisgrid.PairGrid at 0x1e3c6d5ebb0>"
      ]
     },
     "execution_count": 28,
     "metadata": {},
     "output_type": "execute_result"
    },
    {
     "data": {
      "image/png": "[encoded data removed]",
      "text/plain": [
       "<Figure size 720x720 with 20 Axes>"
      ]
     },
     "metadata": {
      "needs_background": "light"
     },
     "output_type": "display_data"
    }
   ],
   "source": [
    "sns.pairplot(df_minmax)"
   ]
  },
  {
   "cell_type": "code",
   "execution_count": 18,
   "metadata": {},
   "outputs": [
    {
     "data": {
      "text/plain": [
       "(array([216.,   0.,   0.,   0.,   0.,   0.,   0.,   0.,   0.,   0., 184.,\n",
       "          0.,   0.,   0.,   0.,   0.,   0.,   0.,   0., 491.]),\n",
       " array([0.  , 0.05, 0.1 , 0.15, 0.2 , 0.25, 0.3 , 0.35, 0.4 , 0.45, 0.5 ,\n",
       "        0.55, 0.6 , 0.65, 0.7 , 0.75, 0.8 , 0.85, 0.9 , 0.95, 1.  ]),\n",
       " <a list of 20 Patch objects>)"
      ]
     },
     "execution_count": 18,
     "metadata": {},
     "output_type": "execute_result"
    },
    {
     "data": {
      "image/png": "[encoded data removed]",
      "text/plain": [
       "<Figure size 432x288 with 1 Axes>"
      ]
     },
     "metadata": {
      "needs_background": "light"
     },
     "output_type": "display_data"
    }
   ],
   "source": [
    "plt.hist(df_minmax['Pclass'],bins=20)"
   ]
  },
  {
   "cell_type": "code",
   "execution_count": 19,
   "metadata": {},
   "outputs": [
    {
     "data": {
      "text/plain": [
       "(array([ 40.,  14.,  15.,  31.,  79.,  98., 262.,  84.,  73.,  45.,  35.,\n",
       "         35.,  29.,  16.,  13.,  11.,   4.,   5.,   1.,   1.]),\n",
       " array([0.  , 0.05, 0.1 , 0.15, 0.2 , 0.25, 0.3 , 0.35, 0.4 , 0.45, 0.5 ,\n",
       "        0.55, 0.6 , 0.65, 0.7 , 0.75, 0.8 , 0.85, 0.9 , 0.95, 1.  ]),\n",
       " <a list of 20 Patch objects>)"
      ]
     },
     "execution_count": 19,
     "metadata": {},
     "output_type": "execute_result"
    },
    {
     "data": {
      "image/png": "[encoded data removed]",
      "text/plain": [
       "<Figure size 432x288 with 1 Axes>"
      ]
     },
     "metadata": {
      "needs_background": "light"
     },
     "output_type": "display_data"
    }
   ],
   "source": [
    "plt.hist(df_minmax['Age'],bins=20)"
   ]
  },
  {
   "cell_type": "code",
   "execution_count": 20,
   "metadata": {},
   "outputs": [
    {
     "data": {
      "text/plain": [
       "(array([562., 170.,  67.,  39.,  15.,  16.,   2.,   0.,   9.,   2.,   6.,\n",
       "          0.,   0.,   0.,   0.,   0.,   0.,   0.,   0.,   3.]),\n",
       " array([0.  , 0.05, 0.1 , 0.15, 0.2 , 0.25, 0.3 , 0.35, 0.4 , 0.45, 0.5 ,\n",
       "        0.55, 0.6 , 0.65, 0.7 , 0.75, 0.8 , 0.85, 0.9 , 0.95, 1.  ]),\n",
       " <a list of 20 Patch objects>)"
      ]
     },
     "execution_count": 20,
     "metadata": {},
     "output_type": "execute_result"
    },
    {
     "data": {
      "image/png": "[encoded data removed]",
      "text/plain": [
       "<Figure size 432x288 with 1 Axes>"
      ]
     },
     "metadata": {
      "needs_background": "light"
     },
     "output_type": "display_data"
    }
   ],
   "source": [
    "plt.hist(df_minmax['Fare'],bins=20)"
   ]
  },
  {
   "cell_type": "markdown",
   "metadata": {},
   "source": [
    "##### 3. Robust Scaler\n",
    "Robust Scaler are robust to outliers.It is used to scale the feature to median and quantiles\n",
    "Scaling using median and quantiles consists of substracting the median to all the observations, and then dividing by the interquantile difference. The interquantile difference is the difference between the 75th and 25th quantile:\n",
    "\n",
    "IQR = 75th quantile - 25th quantile\n",
    "\n",
    "X_scaled = (X - X.median) / IQR"
   ]
  },
  {
   "cell_type": "markdown",
   "metadata": {},
   "source": [
    "0,1,2,3,4,5,6,7,8,9,10\n",
    "\n",
    "9-90 percentile---90% of all values in this group is less than 9\n",
    "1-10 precentile---10% of all values in this group is less than 1\n",
    "4-40%"
   ]
  },
  {
   "cell_type": "code",
   "execution_count": 19,
   "metadata": {},
   "outputs": [],
   "source": [
    "from sklearn.model_selection import train_test_split\n",
    "X_train, X_test, y_train, y_test = train_test_split(X, y, test_size=0.33, random_state=42)"
   ]
  },
  {
   "cell_type": "code",
   "execution_count": 20,
   "metadata": {},
   "outputs": [
    {
     "data": {
      "text/html": [
       "<div>\n",
       "<style scoped>\n",
       "    .dataframe tbody tr th:only-of-type {\n",
       "        vertical-align: middle;\n",
       "    }\n",
       "\n",
       "    .dataframe tbody tr th {\n",
       "        vertical-align: top;\n",
       "    }\n",
       "\n",
       "    .dataframe thead th {\n",
       "        text-align: right;\n",
       "    }\n",
       "</style>\n",
       "<table border=\"1\" class=\"dataframe\">\n",
       "  <thead>\n",
       "    <tr style=\"text-align: right;\">\n",
       "      <th></th>\n",
       "      <th>0</th>\n",
       "      <th>1</th>\n",
       "      <th>2</th>\n",
       "    </tr>\n",
       "  </thead>\n",
       "  <tbody>\n",
       "    <tr>\n",
       "      <th>0</th>\n",
       "      <td>-2.0</td>\n",
       "      <td>2.000000</td>\n",
       "      <td>1.602069</td>\n",
       "    </tr>\n",
       "    <tr>\n",
       "      <th>1</th>\n",
       "      <td>0.0</td>\n",
       "      <td>0.000000</td>\n",
       "      <td>0.044788</td>\n",
       "    </tr>\n",
       "    <tr>\n",
       "      <th>2</th>\n",
       "      <td>-1.0</td>\n",
       "      <td>-0.230769</td>\n",
       "      <td>1.161670</td>\n",
       "    </tr>\n",
       "    <tr>\n",
       "      <th>3</th>\n",
       "      <td>0.0</td>\n",
       "      <td>-0.153846</td>\n",
       "      <td>0.000000</td>\n",
       "    </tr>\n",
       "    <tr>\n",
       "      <th>4</th>\n",
       "      <td>0.0</td>\n",
       "      <td>-0.461538</td>\n",
       "      <td>-0.168630</td>\n",
       "    </tr>\n",
       "  </tbody>\n",
       "</table>\n",
       "</div>"
      ],
      "text/plain": [
       "     0         1         2\n",
       "0 -2.0  2.000000  1.602069\n",
       "1  0.0  0.000000  0.044788\n",
       "2 -1.0 -0.230769  1.161670\n",
       "3  0.0 -0.153846  0.000000\n",
       "4  0.0 -0.461538 -0.168630"
      ]
     },
     "execution_count": 20,
     "metadata": {},
     "output_type": "execute_result"
    }
   ],
   "source": [
    "from sklearn.preprocessing import RobustScaler\n",
    "scaler=RobustScaler()\n",
    "df_robust_scaler=pd.DataFrame(scaler.fit_transform(X_train))\n",
    "df_robust_scaler.head()"
   ]
  },
  {
   "cell_type": "code",
   "execution_count": 21,
   "metadata": {},
   "outputs": [
    {
     "data": {
      "text/plain": [
       "array([[ 0.00000000e+00,  0.00000000e+00,  3.39014989e-02],\n",
       "       [-1.00000000e+00,  2.30769231e-01, -1.69344754e-01],\n",
       "       [ 0.00000000e+00, -6.15384615e-01, -2.79623126e-01],\n",
       "       [-1.00000000e+00, -1.69230769e+00,  7.94252677e-01],\n",
       "       [ 0.00000000e+00, -1.07692308e+00, -1.37580300e-01],\n",
       "       [-2.00000000e+00, -1.53846154e-01,  2.75785011e+00],\n",
       "       [ 0.00000000e+00,  0.00000000e+00, -2.87117773e-01],\n",
       "       [ 0.00000000e+00, -9.23076923e-01,  1.51854390e-01],\n",
       "       [ 0.00000000e+00, -9.23076923e-01, -2.87117773e-01],\n",
       "       [-2.00000000e+00, -6.92307692e-01,  5.06599572e-01],\n",
       "       [-2.00000000e+00,  6.92307692e-01,  1.65506638e+00],\n",
       "       [ 0.00000000e+00,  1.23076923e+00, -2.74269807e-01],\n",
       "       [ 0.00000000e+00,  0.00000000e+00,  4.71627409e-01],\n",
       "       [ 0.00000000e+00,  1.53846154e-01, -3.09601713e-01],\n",
       "       [-1.00000000e+00,  6.15384615e-01, -6.22783726e-02],\n",
       "       [-2.00000000e+00, -9.23076923e-01,  1.06834261e+00],\n",
       "       [-2.00000000e+00,  1.07692308e+00,  1.63169165e+00],\n",
       "       [ 0.00000000e+00,  0.00000000e+00, -2.83725910e-01],\n",
       "       [-1.00000000e+00, -7.69230769e-02, -6.22783726e-02],\n",
       "       [-2.00000000e+00,  1.46153846e+00,  1.60795717e+00],\n",
       "       [ 0.00000000e+00, -3.07692308e-01, -2.80873662e-01],\n",
       "       [-2.00000000e+00,  4.61538462e-01,  5.18021413e-01],\n",
       "       [ 0.00000000e+00, -6.92307692e-01, -2.82655246e-01],\n",
       "       [ 0.00000000e+00, -6.15384615e-01, -2.23948608e-01],\n",
       "       [ 0.00000000e+00,  0.00000000e+00,  1.96145610e-03],\n",
       "       [ 0.00000000e+00, -1.38461538e+00,  5.75837259e-01],\n",
       "       [-2.00000000e+00,  9.23076923e-01,  5.68162741e-01],\n",
       "       [-1.00000000e+00,  2.30769231e-01, -6.22783726e-02],\n",
       "       [ 0.00000000e+00, -1.84615385e+00,  5.75837259e-01],\n",
       "       [ 0.00000000e+00,  2.30769231e-01, -2.82655246e-01],\n",
       "       [ 0.00000000e+00, -6.92307692e-01, -2.80873662e-01],\n",
       "       [ 0.00000000e+00, -4.61538462e-01, -2.87117773e-01],\n",
       "       [-2.00000000e+00,  0.00000000e+00,  6.95571734e-01],\n",
       "       [ 0.00000000e+00,  0.00000000e+00, -2.95683084e-01],\n",
       "       [ 0.00000000e+00, -7.69230769e-01, -2.74269807e-01],\n",
       "       [ 0.00000000e+00, -7.69230769e-02,  0.00000000e+00],\n",
       "       [-2.00000000e+00,  0.00000000e+00,  9.01319058e-01],\n",
       "       [ 0.00000000e+00,  0.00000000e+00, -2.87117773e-01],\n",
       "       [-2.00000000e+00,  1.53846154e-01,  7.08599572e-01],\n",
       "       [ 0.00000000e+00,  0.00000000e+00, -2.80873662e-01],\n",
       "       [-1.00000000e+00, -5.38461538e-01,  2.52872805e+00],\n",
       "       [ 0.00000000e+00,  7.69230769e-02, -3.17276231e-01],\n",
       "       [ 0.00000000e+00,  0.00000000e+00, -2.74269807e-01],\n",
       "       [ 0.00000000e+00,  0.00000000e+00, -2.87117773e-01],\n",
       "       [ 0.00000000e+00,  1.30769231e+00,  0.00000000e+00],\n",
       "       [ 0.00000000e+00, -9.23076923e-01,  8.53139186e-01],\n",
       "       [ 0.00000000e+00, -6.92307692e-01, -2.69631692e-01],\n",
       "       [ 0.00000000e+00, -3.84615385e-01, -2.23948608e-01],\n",
       "       [ 0.00000000e+00, -3.07692308e-01, -3.17096360e-01],\n",
       "       [-2.00000000e+00,  2.30769231e+00,  4.23215418e+00],\n",
       "       [ 0.00000000e+00, -1.76923077e+00,  2.05743041e-01],\n",
       "       [-2.00000000e+00,  1.84615385e+00,  3.38525910e+00],\n",
       "       [ 0.00000000e+00,  9.23076923e-01,  5.75837259e-01],\n",
       "       [-2.00000000e+00, -1.30769231e+00,  4.52016274e+00],\n",
       "       [ 0.00000000e+00,  2.84615385e+00, -2.87117773e-01],\n",
       "       [-2.00000000e+00, -7.69230769e-01,  2.79211135e+00],\n",
       "       [-1.00000000e+00,  3.07692308e-01, -1.69344754e-01],\n",
       "       [-2.00000000e+00,  1.69230769e+00,  9.98143897e+00],\n",
       "       [-1.00000000e+00,  5.38461538e-01,  2.80334047e-01],\n",
       "       [ 0.00000000e+00, -6.92307692e-01, -2.81584582e-01],\n",
       "       [ 0.00000000e+00, -5.38461538e-01, -2.86047109e-01],\n",
       "       [-1.00000000e+00, -1.15384615e+00,  2.16094218e-01],\n",
       "       [-1.00000000e+00,  0.00000000e+00,  4.94466809e-01],\n",
       "       [-2.00000000e+00,  0.00000000e+00,  4.91254818e-01],\n",
       "       [ 0.00000000e+00,  0.00000000e+00, -2.87117773e-01],\n",
       "       [-1.00000000e+00,  2.23076923e+00, -1.69344754e-01],\n",
       "       [-1.00000000e+00, -5.38461538e-01,  2.52872805e+00],\n",
       "       [ 0.00000000e+00,  7.69230769e-02, -2.81764454e-01],\n",
       "       [ 0.00000000e+00, -8.46153846e-01, -3.09421842e-01],\n",
       "       [-2.00000000e+00,  1.84615385e+00,  2.73286938e+00],\n",
       "       [-1.00000000e+00, -1.53846154e-01,  4.94466809e-01],\n",
       "       [-2.00000000e+00, -7.69230769e-01,  1.06175931e+01],\n",
       "       [-2.00000000e+00, -1.53846154e-01,  6.65773019e-01],\n",
       "       [-2.00000000e+00,  8.46153846e-01,  2.94235974e+00],\n",
       "       [ 0.00000000e+00, -3.84615385e-01, -2.82655246e-01],\n",
       "       [ 0.00000000e+00,  6.15384615e-01,  4.69293362e-02],\n",
       "       [ 0.00000000e+00,  1.92307692e-01, -2.87117773e-01],\n",
       "       [-2.00000000e+00, -4.61538462e-01,  1.50089079e+00],\n",
       "       [-1.00000000e+00,  7.69230769e-01, -6.22783726e-02],\n",
       "       [ 0.00000000e+00,  1.00000000e+00,  2.46608137e-01],\n",
       "       [ 0.00000000e+00, -9.23076923e-01,  1.08065525e+00],\n",
       "       [-1.00000000e+00,  7.69230769e-02, -1.69344754e-01],\n",
       "       [-2.00000000e+00,  9.23076923e-01,  5.14114775e+00],\n",
       "       [ 0.00000000e+00,  0.00000000e+00, -2.87653105e-01],\n",
       "       [-2.00000000e+00,  2.15384615e+00,  6.95571734e-01],\n",
       "       [-2.00000000e+00,  3.30769231e+00,  1.50107066e+00],\n",
       "       [-2.00000000e+00,  2.30769231e-01,  4.23215418e+00],\n",
       "       [-2.00000000e+00,  1.53846154e-01,  1.81905782e+00],\n",
       "       [-2.00000000e+00,  7.69230769e-01, -6.19023555e-01],\n",
       "       [ 0.00000000e+00,  0.00000000e+00, -3.08531049e-01],\n",
       "       [ 0.00000000e+00, -1.46153846e+00,  2.59991435e-01],\n",
       "       [ 0.00000000e+00, -1.46153846e+00,  7.20376874e-01],\n",
       "       [-2.00000000e+00,  2.53846154e+00,  7.65164882e-01],\n",
       "       [ 0.00000000e+00,  0.00000000e+00, -2.88008565e-01],\n",
       "       [ 0.00000000e+00,  0.00000000e+00, -2.80873662e-01],\n",
       "       [ 0.00000000e+00,  0.00000000e+00, -2.82655246e-01],\n",
       "       [-2.00000000e+00,  1.53846154e+00,  1.60795717e+00],\n",
       "       [ 0.00000000e+00,  1.30769231e+00, -2.74269807e-01],\n",
       "       [-1.00000000e+00,  6.15384615e-01, -6.22783726e-02],\n",
       "       [ 0.00000000e+00, -7.69230769e-02, -2.80873662e-01],\n",
       "       [-2.00000000e+00,  2.76923077e+00,  4.94466809e-01],\n",
       "       [ 0.00000000e+00,  5.38461538e-01, -3.13884368e-01],\n",
       "       [-2.00000000e+00, -6.92307692e-01,  3.28158458e+00],\n",
       "       [ 0.00000000e+00,  7.69230769e-01, -3.17096360e-01],\n",
       "       [ 0.00000000e+00,  1.92307692e-01, -2.74269807e-01],\n",
       "       [ 0.00000000e+00, -2.30769231e-01, -2.86047109e-01],\n",
       "       [-1.00000000e+00,  9.23076923e-01,  1.05121199e+00],\n",
       "       [-2.00000000e+00,  1.46153846e+00,  1.02979872e+00],\n",
       "       [ 0.00000000e+00,  1.53846154e-01, -2.12171306e-01],\n",
       "       [-2.00000000e+00,  9.23076923e-01,  7.08599572e-01],\n",
       "       [-2.00000000e+00,  0.00000000e+00,  1.60795717e+00],\n",
       "       [ 0.00000000e+00, -5.76923077e-01, -3.08531049e-01],\n",
       "       [-2.00000000e+00,  0.00000000e+00,  3.19700214e+00],\n",
       "       [-2.00000000e+00,  6.15384615e-01,  5.06779443e-01],\n",
       "       [-2.00000000e+00,  0.00000000e+00,  8.87901499e+00],\n",
       "       [ 0.00000000e+00, -6.15384615e-01, -1.97361884e-01],\n",
       "       [-2.00000000e+00,  3.30769231e+00,  8.65096360e-01],\n",
       "       [-1.00000000e+00,  6.15384615e-01, -6.76316916e-02],\n",
       "       [-1.00000000e+00, -4.61538462e-01,  6.22946467e-01],\n",
       "       [ 0.00000000e+00,  1.53846154e+00,  8.53139186e-01],\n",
       "       [-1.00000000e+00, -3.84615385e-01, -1.26518201e-01],\n",
       "       [-2.00000000e+00,  3.07692308e-01,  2.64828694e+00],\n",
       "       [-2.00000000e+00,  2.69230769e+00,  2.71966167e+00],\n",
       "       [-1.00000000e+00, -2.09000000e+00,  6.22946467e-01],\n",
       "       [ 0.00000000e+00, -2.30769231e-01, -3.08531049e-01],\n",
       "       [-2.00000000e+00,  5.38461538e-01,  5.18021413e-01],\n",
       "       [-2.00000000e+00,  1.61538462e+00,  4.91434690e-01],\n",
       "       [-2.00000000e+00, -3.07692308e-01,  2.77283940e+00],\n",
       "       [ 0.00000000e+00,  0.00000000e+00,  1.75588865e-04],\n",
       "       [ 0.00000000e+00, -5.38461538e-01, -2.74269807e-01],\n",
       "       [ 0.00000000e+00,  0.00000000e+00, -2.81584582e-01],\n",
       "       [ 0.00000000e+00,  0.00000000e+00,  3.39014989e-02],\n",
       "       [-1.00000000e+00,  0.00000000e+00, -6.19023555e-01],\n",
       "       [ 0.00000000e+00, -1.76923077e+00, -8.47623126e-02],\n",
       "       [-2.00000000e+00,  1.61538462e+00,  1.81905782e+00],\n",
       "       [ 0.00000000e+00, -1.00000000e+00,  0.00000000e+00],\n",
       "       [-2.00000000e+00,  0.00000000e+00,  4.12972591e+00],\n",
       "       [ 0.00000000e+00,  7.69230769e-02, -2.86047109e-01],\n",
       "       [ 0.00000000e+00,  1.07692308e+00, -2.95683084e-01],\n",
       "       [ 0.00000000e+00, -7.69230769e-01,  1.43289079e-01],\n",
       "       [ 0.00000000e+00, -5.38461538e-01, -2.57854390e-01],\n",
       "       [-1.00000000e+00,  1.23076923e+00,  4.94466809e-01],\n",
       "       [-1.00000000e+00,  0.00000000e+00, -6.22783726e-02],\n",
       "       [-1.00000000e+00,  6.92307692e-01,  4.94466809e-01],\n",
       "       [ 0.00000000e+00,  8.46153846e-01,  6.28299786e-01],\n",
       "       [-1.00000000e+00,  4.61538462e-01,  7.72839400e-01],\n",
       "       [-1.00000000e+00,  1.53846154e-01, -6.22783726e-02],\n",
       "       [-1.00000000e+00,  2.92307692e+00, -1.69344754e-01],\n",
       "       [-2.00000000e+00,  0.00000000e+00,  5.65595717e+00],\n",
       "       [ 0.00000000e+00,  1.15384615e+00, -2.74269807e-01],\n",
       "       [ 0.00000000e+00,  0.00000000e+00, -2.45897216e-01],\n",
       "       [ 0.00000000e+00, -3.07692308e-01, -2.98004283e-01],\n",
       "       [ 0.00000000e+00, -7.69230769e-01, -2.85156317e-01],\n",
       "       [ 0.00000000e+00,  0.00000000e+00,  4.15237687e-01],\n",
       "       [ 0.00000000e+00,  0.00000000e+00, -2.74269807e-01],\n",
       "       [ 0.00000000e+00,  0.00000000e+00, -3.17096360e-01],\n",
       "       [ 0.00000000e+00,  0.00000000e+00,  1.80049679e+00],\n",
       "       [ 0.00000000e+00,  0.00000000e+00, -2.85511777e-01],\n",
       "       [-1.00000000e+00,  6.15384615e-01,  4.94466809e-01],\n",
       "       [ 0.00000000e+00,  3.07692308e-01,  4.47880086e-02],\n",
       "       [ 0.00000000e+00, -3.46153846e-01, -3.09421842e-01],\n",
       "       [-2.00000000e+00,  0.00000000e+00,  5.18021413e-01],\n",
       "       [-1.00000000e+00,  8.46153846e-01, -6.22783726e-02],\n",
       "       [-2.00000000e+00,  0.00000000e+00,  2.90006852e+00],\n",
       "       [ 0.00000000e+00,  0.00000000e+00, -2.56783726e-01],\n",
       "       [-2.00000000e+00,  2.84615385e+00,  2.03533191e+00],\n",
       "       [-1.00000000e+00, -3.84615385e-01, -1.69344754e-01],\n",
       "       [-2.00000000e+00,  0.00000000e+00,  1.60206852e+00],\n",
       "       [ 0.00000000e+00, -4.61538462e-01, -2.80873662e-01],\n",
       "       [ 0.00000000e+00,  5.38461538e-01, -3.17096360e-01],\n",
       "       [-2.00000000e+00, -3.84615385e-01,  2.09439400e+00],\n",
       "       [-1.00000000e+00, -7.69230769e-01, -6.22783726e-02],\n",
       "       [-2.00000000e+00,  6.15384615e-01,  5.11062099e-01],\n",
       "       [ 0.00000000e+00, -1.46153846e+00,  3.39014989e-02],\n",
       "       [ 0.00000000e+00, -8.46153846e-01, -3.13884368e-01],\n",
       "       [ 0.00000000e+00,  0.00000000e+00, -3.09601713e-01],\n",
       "       [ 0.00000000e+00,  7.69230769e-01,  7.25194861e-01],\n",
       "       [-1.00000000e+00, -8.46153846e-01, -1.69344754e-01],\n",
       "       [ 0.00000000e+00, -1.84615385e+00,  9.61798715e-02],\n",
       "       [-2.00000000e+00,  1.34615385e+00,  6.01533191e-01],\n",
       "       [-1.00000000e+00, -3.84615385e-01, -6.22783726e-02],\n",
       "       [ 0.00000000e+00,  3.07692308e-01, -2.79623126e-01],\n",
       "       [ 0.00000000e+00, -1.53846154e-01, -2.82655246e-01],\n",
       "       [ 0.00000000e+00, -1.69230769e+00,  7.20376874e-01],\n",
       "       [-2.00000000e+00, -3.07692308e-01,  9.98143897e+00],\n",
       "       [-2.00000000e+00,  1.30769231e+00,  5.18021413e-01],\n",
       "       [-1.00000000e+00,  7.69230769e-02,  5.68162741e-01],\n",
       "       [ 0.00000000e+00,  0.00000000e+00, -2.80873662e-01],\n",
       "       [-2.00000000e+00,  0.00000000e+00,  9.01319058e-01],\n",
       "       [-1.00000000e+00,  1.07692308e+00, -6.22783726e-02],\n",
       "       [ 0.00000000e+00,  6.15384615e-01,  4.15237687e-01],\n",
       "       [-1.00000000e+00,  3.84615385e-01, -9.33276231e-02],\n",
       "       [ 0.00000000e+00, -8.46153846e-01, -3.16916488e-01],\n",
       "       [ 0.00000000e+00,  7.69230769e-02, -2.12171306e-01],\n",
       "       [-1.00000000e+00,  1.69230769e+00,  4.94466809e-01],\n",
       "       [-2.00000000e+00,  5.38461538e-01,  3.23536617e+00],\n",
       "       [-2.00000000e+00,  7.69230769e-01,  9.12508779e+00],\n",
       "       [-1.00000000e+00,  4.61538462e-01, -6.22783726e-02],\n",
       "       [-2.00000000e+00, -8.46153846e-01,  1.82208994e+00],\n",
       "       [ 0.00000000e+00, -1.30769231e+00,  7.20376874e-01],\n",
       "       [ 0.00000000e+00,  2.53846154e+00, -3.51892934e-01],\n",
       "       [ 0.00000000e+00,  1.53846154e-01, -2.48038544e-01],\n",
       "       [-1.00000000e+00, -1.61538462e+00,  5.05173448e-01],\n",
       "       [ 0.00000000e+00,  2.69230769e+00, -2.08423983e-01],\n",
       "       [ 0.00000000e+00, -6.15384615e-01, -3.09421842e-01],\n",
       "       [ 0.00000000e+00,  0.00000000e+00,  3.38505353e-01],\n",
       "       [ 0.00000000e+00,  7.69230769e-02, -2.12886510e-01],\n",
       "       [-2.00000000e+00,  6.15384615e-01,  4.52016274e+00],\n",
       "       [ 0.00000000e+00,  0.00000000e+00,  1.75588865e-04],\n",
       "       [ 0.00000000e+00,  1.69230769e+00, -2.74269807e-01],\n",
       "       [-2.00000000e+00, -7.69230769e-02,  8.43879229e+00],\n",
       "       [ 0.00000000e+00,  1.53846154e-01, -3.08531049e-01],\n",
       "       [-2.00000000e+00,  3.84615385e-01,  3.23536617e+00],\n",
       "       [ 0.00000000e+00,  0.00000000e+00, -2.88188437e-01],\n",
       "       [ 0.00000000e+00,  0.00000000e+00,  4.71627409e-01],\n",
       "       [ 0.00000000e+00, -2.00000000e+00,  2.83546039e-01],\n",
       "       [-1.00000000e+00, -2.30769231e-01,  6.65773019e-01],\n",
       "       [-2.00000000e+00,  1.76923077e+00,  2.00963597e+00],\n",
       "       [-1.00000000e+00, -2.30769231e-01,  4.94466809e-01],\n",
       "       [ 0.00000000e+00,  0.00000000e+00, -3.08531049e-01],\n",
       "       [ 0.00000000e+00,  0.00000000e+00, -2.80873662e-01],\n",
       "       [-1.00000000e+00, -3.07692308e-01, -6.22783726e-02],\n",
       "       [ 0.00000000e+00, -7.69230769e-01,  2.46608137e-01],\n",
       "       [-2.00000000e+00,  0.00000000e+00,  6.87186296e-01],\n",
       "       [ 0.00000000e+00, -2.30769231e-01, -3.17096360e-01],\n",
       "       [-1.00000000e+00, -3.07692308e-01,  1.96145610e-03],\n",
       "       [ 0.00000000e+00, -4.61538462e-01, -2.96933619e-01],\n",
       "       [-2.00000000e+00, -2.08307692e+00,  5.87134047e+00],\n",
       "       [-1.00000000e+00, -3.07692308e-01,  4.94466809e-01],\n",
       "       [ 0.00000000e+00, -1.53846154e-01, -2.79623126e-01],\n",
       "       [-1.00000000e+00,  4.61538462e-01,  2.80334047e-01],\n",
       "       [-2.00000000e+00, -5.38461538e-01,  1.06175931e+01],\n",
       "       [ 0.00000000e+00,  0.00000000e+00, -2.87117773e-01],\n",
       "       [ 0.00000000e+00,  0.00000000e+00, -3.09421842e-01],\n",
       "       [ 0.00000000e+00,  0.00000000e+00, -2.48038544e-01],\n",
       "       [ 0.00000000e+00, -4.61538462e-01, -2.86047109e-01],\n",
       "       [-2.00000000e+00,  2.61538462e+00,  2.80710064e+00],\n",
       "       [ 0.00000000e+00, -7.69230769e-01, -1.97537473e-01],\n",
       "       [-2.00000000e+00,  1.07692308e+00,  9.12508779e+00],\n",
       "       [-1.00000000e+00,  2.23076923e+00, -9.01156317e-02],\n",
       "       [ 0.00000000e+00, -6.92307692e-01, -6.19023555e-01],\n",
       "       [-1.00000000e+00,  1.07692308e+00,  4.94466809e-01],\n",
       "       [ 0.00000000e+00,  0.00000000e+00, -3.09601713e-01],\n",
       "       [ 0.00000000e+00, -6.15384615e-01, -2.48038544e-01],\n",
       "       [ 0.00000000e+00,  5.00000000e-01, -3.43327623e-01],\n",
       "       [ 0.00000000e+00,  0.00000000e+00, -2.12171306e-01],\n",
       "       [ 0.00000000e+00,  0.00000000e+00, -2.74269807e-01],\n",
       "       [ 0.00000000e+00, -3.84615385e-01, -2.80873662e-01],\n",
       "       [ 0.00000000e+00, -4.61538462e-01, -3.08531049e-01],\n",
       "       [-2.00000000e+00,  1.84615385e+00,  6.87186296e-01],\n",
       "       [ 0.00000000e+00,  1.53846154e-01, -8.47623126e-02],\n",
       "       [-1.00000000e+00,  6.53846154e-01,  4.94466809e-01],\n",
       "       [ 0.00000000e+00,  0.00000000e+00, -2.87117773e-01],\n",
       "       [ 0.00000000e+00, -4.61538462e-01, -3.09421842e-01],\n",
       "       [-2.00000000e+00,  1.69230769e+00,  5.10474518e+00],\n",
       "       [ 0.00000000e+00, -7.69230769e-02, -3.20308351e-01],\n",
       "       [ 0.00000000e+00, -4.61538462e-01, -2.74269807e-01],\n",
       "       [-2.00000000e+00,  1.76923077e+00,  2.71966167e+00],\n",
       "       [-1.00000000e+00,  6.15384615e-01, -1.69344754e-01],\n",
       "       [-1.00000000e+00,  7.69230769e-02,  4.94466809e-01],\n",
       "       [-2.00000000e+00, -4.61538462e-01,  5.87134047e+00],\n",
       "       [-2.00000000e+00,  1.69230769e+00,  3.93879229e+00],\n",
       "       [-1.00000000e+00,  9.23076923e-01, -6.22783726e-02],\n",
       "       [ 0.00000000e+00, -7.69230769e-02, -2.48038544e-01],\n",
       "       [-2.00000000e+00,  0.00000000e+00, -6.19023555e-01],\n",
       "       [-2.00000000e+00,  2.84615385e+00,  5.18021413e-01],\n",
       "       [ 0.00000000e+00, -8.46153846e-01, -2.48038544e-01],\n",
       "       [-2.00000000e+00,  0.00000000e+00,  5.18021413e-01],\n",
       "       [-2.00000000e+00, -1.84615385e+00,  2.88668522e+00],\n",
       "       [ 0.00000000e+00,  0.00000000e+00, -2.80873662e-01],\n",
       "       [ 0.00000000e+00, -2.07692308e+00, -1.42222698e-01],\n",
       "       [-1.00000000e+00,  6.15384615e-01,  5.69413276e-01],\n",
       "       [-1.00000000e+00,  1.15384615e+00,  5.05173448e-01],\n",
       "       [-2.00000000e+00,  7.69230769e-01,  5.95324625e+00],\n",
       "       [-1.00000000e+00,  2.30769231e-01,  5.05173448e-01],\n",
       "       [ 0.00000000e+00,  7.69230769e-02, -2.74269807e-01],\n",
       "       [ 0.00000000e+00, -7.69230769e-01, -2.63563169e-01],\n",
       "       [-1.00000000e+00,  0.00000000e+00,  2.55160600e-02],\n",
       "       [-2.00000000e+00,  8.46153846e-01,  4.12972591e+00],\n",
       "       [-1.00000000e+00,  8.46153846e-01, -6.22783726e-02],\n",
       "       [ 0.00000000e+00, -1.53846154e-01, -2.48038544e-01],\n",
       "       [ 0.00000000e+00, -6.15384615e-01, -3.17096360e-01],\n",
       "       [-2.00000000e+00,  0.00000000e+00,  5.10474518e+00],\n",
       "       [ 0.00000000e+00,  1.61538462e+00, -6.19023555e-01],\n",
       "       [-1.00000000e+00, -3.84615385e-01,  2.53361884e-02],\n",
       "       [ 0.00000000e+00, -2.07692308e+00,  1.08065525e+00],\n",
       "       [ 0.00000000e+00,  0.00000000e+00, -2.81584582e-01],\n",
       "       [ 0.00000000e+00,  0.00000000e+00,  3.85259101e-01],\n",
       "       [-1.00000000e+00, -1.92307692e+00,  4.94466809e-01],\n",
       "       [ 0.00000000e+00, -1.84615385e+00, -1.42222698e-01],\n",
       "       [ 0.00000000e+00, -6.92307692e-01, -2.91400428e-01],\n",
       "       [ 0.00000000e+00,  9.61538462e-01, -2.87117773e-01],\n",
       "       [ 0.00000000e+00, -2.07692308e+00,  5.51391863e-02],\n",
       "       [ 0.00000000e+00,  0.00000000e+00,  3.39014989e-02],\n",
       "       [ 0.00000000e+00, -5.38461538e-01, -2.79623126e-01]])"
      ]
     },
     "execution_count": 21,
     "metadata": {},
     "output_type": "execute_result"
    }
   ],
   "source": [
    "scaler.transform(X_test)"
   ]
  },
  {
   "cell_type": "code",
   "execution_count": 27,
   "metadata": {},
   "outputs": [
    {
     "data": {
      "text/plain": [
       "<seaborn.axisgrid.PairGrid at 0x1e3c4e20100>"
      ]
     },
     "execution_count": 27,
     "metadata": {},
     "output_type": "execute_result"
    },
    {
     "data": {
      "image/png": "[encoded data removed]",
      "text/plain": [
       "<Figure size 720x720 with 20 Axes>"
      ]
     },
     "metadata": {
      "needs_background": "light"
     },
     "output_type": "display_data"
    }
   ],
   "source": [
    "import seaborn as sns\n",
    "sns.pairplot(df_robust_scaler)"
   ]
  },
  {
   "cell_type": "code",
   "execution_count": 26,
   "metadata": {},
   "outputs": [
    {
     "data": {
      "text/plain": [
       "<seaborn.axisgrid.PairGrid at 0x1e3bfc1f280>"
      ]
     },
     "execution_count": 26,
     "metadata": {},
     "output_type": "execute_result"
    },
    {
     "data": {
      "image/png": "[encoded data removed]",
      "text/plain": [
       "<Figure size 720x720 with 20 Axes>"
      ]
     },
     "metadata": {
      "needs_background": "light"
     },
     "output_type": "display_data"
    }
   ],
   "source": [
    "import seaborn as sns\n",
    "sns.pairplot(df)"
   ]
  },
  {
   "cell_type": "code",
   "execution_count": 23,
   "metadata": {},
   "outputs": [
    {
     "data": {
      "text/plain": [
       "(array([ 40.,  14.,  15.,  31.,  79.,  98., 262.,  84.,  73.,  45.,  35.,\n",
       "         35.,  29.,  16.,  13.,  11.,   4.,   5.,   1.,   1.]),\n",
       " array([-2.12153846, -1.81546154, -1.50938462, -1.20330769, -0.89723077,\n",
       "        -0.59115385, -0.28507692,  0.021     ,  0.32707692,  0.63315385,\n",
       "         0.93923077,  1.24530769,  1.55138462,  1.85746154,  2.16353846,\n",
       "         2.46961538,  2.77569231,  3.08176923,  3.38784615,  3.69392308,\n",
       "         4.        ]),\n",
       " <a list of 20 Patch objects>)"
      ]
     },
     "execution_count": 23,
     "metadata": {},
     "output_type": "execute_result"
    },
    {
     "data": {
      "image/png": "[encoded data removed]",
      "text/plain": [
       "<Figure size 432x288 with 1 Axes>"
      ]
     },
     "metadata": {
      "needs_background": "light"
     },
     "output_type": "display_data"
    }
   ],
   "source": [
    "plt.hist(df_robust_scaler['Age'],bins=20)"
   ]
  },
  {
   "cell_type": "code",
   "execution_count": 24,
   "metadata": {},
   "outputs": [
    {
     "data": {
      "text/plain": [
       "(array([562., 170.,  67.,  39.,  15.,  16.,   2.,   0.,   9.,   2.,   6.,\n",
       "          0.,   0.,   0.,   0.,   0.,   0.,   0.,   0.,   3.]),\n",
       " array([-0.62600478,  0.48343237,  1.59286952,  2.70230667,  3.81174382,\n",
       "         4.92118096,  6.03061811,  7.14005526,  8.24949241,  9.35892956,\n",
       "        10.46836671, 11.57780386, 12.68724101, 13.79667816, 14.90611531,\n",
       "        16.01555246, 17.12498961, 18.23442675, 19.3438639 , 20.45330105,\n",
       "        21.5627382 ]),\n",
       " <a list of 20 Patch objects>)"
      ]
     },
     "execution_count": 24,
     "metadata": {},
     "output_type": "execute_result"
    },
    {
     "data": {
      "image/png": "[encoded data removed]",
      "text/plain": [
       "<Figure size 432x288 with 1 Axes>"
      ]
     },
     "metadata": {
      "needs_background": "light"
     },
     "output_type": "display_data"
    }
   ],
   "source": [
    "plt.hist(df_robust_scaler['Fare'],bins=20)"
   ]
  }
 ],
 "metadata": {
  "kernelspec": {
   "display_name": "Python 3.9.5 64-bit",
   "language": "python",
   "name": "python3"
  },
  "language_info": {
   "codemirror_mode": {
    "name": "ipython",
    "version": 3
   },
   "file_extension": ".py",
   "mimetype": "text/x-python",
   "name": "python",
   "nbconvert_exporter": "python",
   "pygments_lexer": "ipython3",
   "version": "3.9.5"
  },
  "vscode": {
   "interpreter": {
    "hash": "108203d4702dc3da3ca9e0dedb25933865a89ad5b02ccb811f40c9839521041b"
   }
  }
 },
 "nbformat": 4,
 "nbformat_minor": 4
}
